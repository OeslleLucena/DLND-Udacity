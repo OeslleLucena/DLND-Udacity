{
 "cells": [
  {
   "cell_type": "markdown",
   "metadata": {
    "collapsed": true
   },
   "source": [
    "# Image Classification\n",
    "In this project, you'll classify images from the [CIFAR-10 dataset](https://www.cs.toronto.edu/~kriz/cifar.html).  The dataset consists of airplanes, dogs, cats, and other objects. You'll preprocess the images, then train a convolutional neural network on all the samples. The images need to be normalized and the labels need to be one-hot encoded.  You'll get to apply what you learned and build a convolutional, max pooling, dropout, and fully connected layers.  At the end, you'll get to see your neural network's predictions on the sample images.\n",
    "## Get the Data\n",
    "Run the following cell to download the [CIFAR-10 dataset for python](https://www.cs.toronto.edu/~kriz/cifar-10-python.tar.gz)."
   ]
  },
  {
   "cell_type": "code",
   "execution_count": 1,
   "metadata": {},
   "outputs": [
    {
     "name": "stdout",
     "output_type": "stream",
     "text": [
      "All files found!\n"
     ]
    }
   ],
   "source": [
    "\"\"\"\n",
    "DON'T MODIFY ANYTHING IN THIS CELL THAT IS BELOW THIS LINE\n",
    "\"\"\"\n",
    "# from urllib.request import urlretrieve\n",
    "from os.path import isfile, isdir\n",
    "from tqdm import tqdm\n",
    "import problem_unittests as tests\n",
    "import tarfile\n",
    "\n",
    "cifar10_dataset_folder_path = 'cifar-10-batches-py'\n",
    "\n",
    "# Use Floyd's cifar-10 dataset if present\n",
    "floyd_cifar10_location = '/cifar/cifar-10-python.tar.gz'\n",
    "if isfile(floyd_cifar10_location):\n",
    "    tar_gz_path = floyd_cifar10_location\n",
    "else:\n",
    "    tar_gz_path = 'cifar-10-python.tar.gz'\n",
    "\n",
    "class DLProgress(tqdm):\n",
    "    last_block = 0\n",
    "\n",
    "    def hook(self, block_num=1, block_size=1, total_size=None):\n",
    "        self.total = total_size\n",
    "        self.update((block_num - self.last_block) * block_size)\n",
    "        self.last_block = block_num\n",
    "\n",
    "if not isfile(tar_gz_path):\n",
    "    with DLProgress(unit='B', unit_scale=True, miniters=1, desc='CIFAR-10 Dataset') as pbar:\n",
    "        urlretrieve(\n",
    "            'https://www.cs.toronto.edu/~kriz/cifar-10-python.tar.gz',\n",
    "            tar_gz_path,\n",
    "            pbar.hook)\n",
    "\n",
    "if not isdir(cifar10_dataset_folder_path):\n",
    "    with tarfile.open(tar_gz_path) as tar:\n",
    "        tar.extractall()\n",
    "        tar.close()\n",
    "\n",
    "\n",
    "tests.test_folder_path(cifar10_dataset_folder_path)"
   ]
  },
  {
   "cell_type": "markdown",
   "metadata": {},
   "source": [
    "## Explore the Data\n",
    "The dataset is broken into batches to prevent your machine from running out of memory.  The CIFAR-10 dataset consists of 5 batches, named `data_batch_1`, `data_batch_2`, etc.. Each batch contains the labels and images that are one of the following:\n",
    "* airplane\n",
    "* automobile\n",
    "* bird\n",
    "* cat\n",
    "* deer\n",
    "* dog\n",
    "* frog\n",
    "* horse\n",
    "* ship\n",
    "* truck\n",
    "\n",
    "Understanding a dataset is part of making predictions on the data.  Play around with the code cell below by changing the `batch_id` and `sample_id`. The `batch_id` is the id for a batch (1-5). The `sample_id` is the id for a image and label pair in the batch.\n",
    "\n",
    "Ask yourself \"What are all possible labels?\", \"What is the range of values for the image data?\", \"Are the labels in order or random?\".  Answers to questions like these will help you preprocess the data and end up with better predictions."
   ]
  },
  {
   "cell_type": "code",
   "execution_count": 2,
   "metadata": {},
   "outputs": [
    {
     "name": "stdout",
     "output_type": "stream",
     "text": [
      "\n",
      "Stats of batch 1:\n",
      "Samples: 10000\n",
      "Label Counts: {0: 1005, 1: 974, 2: 1032, 3: 1016, 4: 999, 5: 937, 6: 1030, 7: 1001, 8: 1025, 9: 981}\n",
      "First 20 Labels: [6, 9, 9, 4, 1, 1, 2, 7, 8, 3, 4, 7, 7, 2, 9, 9, 9, 3, 2, 6]\n",
      "\n",
      "Example of Image 5:\n",
      "Image - Min Value: 0 Max Value: 252\n",
      "Image - Shape: (32, 32, 3)\n",
      "Label - Label Id: 1 Name: automobile\n"
     ]
    },
    {
     "data": {
      "image/png": "[encoded data removed]",
      "text/plain": [
       "<matplotlib.figure.Figure at 0x7f6c611233c8>"
      ]
     },
     "metadata": {
      "image/png": {
       "height": 250,
       "width": 253
      }
     },
     "output_type": "display_data"
    }
   ],
   "source": [
    "%matplotlib inline\n",
    "%config InlineBackend.figure_format = 'retina'\n",
    "\n",
    "import helper\n",
    "import numpy as np\n",
    "\n",
    "# Explore the dataset\n",
    "batch_id = 1\n",
    "sample_id = 5\n",
    "helper.display_stats(cifar10_dataset_folder_path, batch_id, sample_id)"
   ]
  },
  {
   "cell_type": "markdown",
   "metadata": {},
   "source": [
    "## Implement Preprocess Functions\n",
    "### Normalize\n",
    "In the cell below, implement the `normalize` function to take in image data, `x`, and return it as a normalized Numpy array. The values should be in the range of 0 to 1, inclusive.  The return object should be the same shape as `x`."
   ]
  },
  {
   "cell_type": "code",
   "execution_count": 3,
   "metadata": {},
   "outputs": [
    {
     "name": "stdout",
     "output_type": "stream",
     "text": [
      "Tests Passed\n"
     ]
    }
   ],
   "source": [
    "def normalize(x):\n",
    "    \"\"\"\n",
    "    Normalize a list of sample image data in the range of 0 to 1\n",
    "    : x: List of image data.  The image shape is (32, 32, 3)\n",
    "    : return: Numpy array of normalize data\n",
    "    \"\"\"\n",
    "    # TODO: Implement Function\n",
    "    max_x = np.max(x)\n",
    "    x = x/max_x\n",
    "    return x\n",
    "\n",
    "\n",
    "\"\"\"\n",
    "DON'T MODIFY ANYTHING IN THIS CELL THAT IS BELOW THIS LINE\n",
    "\"\"\"\n",
    "tests.test_normalize(normalize)"
   ]
  },
  {
   "cell_type": "markdown",
   "metadata": {},
   "source": [
    "### One-hot encode\n",
    "Just like the previous code cell, you'll be implementing a function for preprocessing.  This time, you'll implement the `one_hot_encode` function. The input, `x`, are a list of labels.  Implement the function to return the list of labels as One-Hot encoded Numpy array.  The possible values for labels are 0 to 9. The one-hot encoding function should return the same encoding for each value between each call to `one_hot_encode`.  Make sure to save the map of encodings outside the function.\n",
    "\n",
    "Hint: Don't reinvent the wheel."
   ]
  },
  {
   "cell_type": "code",
   "execution_count": 4,
   "metadata": {},
   "outputs": [
    {
     "name": "stdout",
     "output_type": "stream",
     "text": [
      "Tests Passed\n"
     ]
    }
   ],
   "source": [
    "def map_dicts():\n",
    "       \n",
    "    # define universe of possible input values\n",
    "    alphabet = [0,1,2,3,4,5,6,7,8,9]\n",
    "    \n",
    "    # define a mapping of chars to integers\n",
    "    map_dict = dict((c, i) for i, c in enumerate(alphabet))\n",
    "    return map_dict,alphabet\n",
    "\n",
    "def one_hot_encode(x):\n",
    "    \"\"\"\n",
    "    One hot encode a list of sample labels. Return a one-hot encoded vector for each label.\n",
    "    : x: List of sample Labels\n",
    "    : return: Numpy array of one-hot encoded labels\n",
    "    \"\"\"\n",
    "    # TODO: Implement Function\n",
    "    # integer encode input data\n",
    "    char_to_int, alphabet = map_dicts()\n",
    "    integer_encoded = [char_to_int[char] for char in x]\n",
    "\n",
    "    # one hot encode\n",
    "    onehot_encoded = []\n",
    "    for value in integer_encoded:\n",
    "        letter = [0 for _ in range(len(alphabet))]\n",
    "        letter[value] = 1\n",
    "        onehot_encoded = np.append(onehot_encoded, letter)\n",
    "    \n",
    "    return onehot_encoded.reshape(len(x),len(alphabet))\n",
    "\n",
    "\n",
    "\"\"\"\n",
    "DON'T MODIFY ANYTHING IN THIS CELL THAT IS BELOW THIS LINE\n",
    "\"\"\"\n",
    "tests.test_one_hot_encode(one_hot_encode)"
   ]
  },
  {
   "cell_type": "markdown",
   "metadata": {},
   "source": [
    "### Randomize Data\n",
    "As you saw from exploring the data above, the order of the samples are randomized.  It doesn't hurt to randomize it again, but you don't need to for this dataset."
   ]
  },
  {
   "cell_type": "markdown",
   "metadata": {},
   "source": [
    "## Preprocess all the data and save it\n",
    "Running the code cell below will preprocess all the CIFAR-10 data and save it to file. The code below also uses 10% of the training data for validation."
   ]
  },
  {
   "cell_type": "code",
   "execution_count": 5,
   "metadata": {},
   "outputs": [],
   "source": [
    "\"\"\"\n",
    "DON'T MODIFY ANYTHING IN THIS CELL\n",
    "\"\"\"\n",
    "# Preprocess Training, Validation, and Testing Data\n",
    "helper.preprocess_and_save_data(cifar10_dataset_folder_path, normalize, one_hot_encode)"
   ]
  },
  {
   "cell_type": "markdown",
   "metadata": {},
   "source": [
    "# Check Point\n",
    "This is your first checkpoint.  If you ever decide to come back to this notebook or have to restart the notebook, you can start from here.  The preprocessed data has been saved to disk."
   ]
  },
  {
   "cell_type": "code",
   "execution_count": 6,
   "metadata": {},
   "outputs": [],
   "source": [
    "\"\"\"\n",
    "DON'T MODIFY ANYTHING IN THIS CELL\n",
    "\"\"\"\n",
    "import pickle\n",
    "import problem_unittests as tests\n",
    "import helper\n",
    "\n",
    "# Load the Preprocessed Validation data\n",
    "valid_features, valid_labels = pickle.load(open('preprocess_validation.p', mode='rb'))"
   ]
  },
  {
   "cell_type": "markdown",
   "metadata": {},
   "source": [
    "## Build the network\n",
    "For the neural network, you'll build each layer into a function.  Most of the code you've seen has been outside of functions. To test your code more thoroughly, we require that you put each layer in a function.  This allows us to give you better feedback and test for simple mistakes using our unittests before you submit your project.\n",
    "\n",
    ">**Note:** If you're finding it hard to dedicate enough time for this course each week, we've provided a small shortcut to this part of the project. In the next couple of problems, you'll have the option to use classes from the [TensorFlow Layers](https://www.tensorflow.org/api_docs/python/tf/layers) or [TensorFlow Layers (contrib)](https://www.tensorflow.org/api_guides/python/contrib.layers) packages to build each layer, except the layers you build in the \"Convolutional and Max Pooling Layer\" section.  TF Layers is similar to Keras's and TFLearn's abstraction to layers, so it's easy to pickup.\n",
    "\n",
    ">However, if you would like to get the most out of this course, try to solve all the problems _without_ using anything from the TF Layers packages. You **can** still use classes from other packages that happen to have the same name as ones you find in TF Layers! For example, instead of using the TF Layers version of the `conv2d` class, [tf.layers.conv2d](https://www.tensorflow.org/api_docs/python/tf/layers/conv2d), you would want to use the TF Neural Network version of `conv2d`, [tf.nn.conv2d](https://www.tensorflow.org/api_docs/python/tf/nn/conv2d). \n",
    "\n",
    "Let's begin!\n",
    "\n",
    "### Input\n",
    "The neural network needs to read the image data, one-hot encoded labels, and dropout keep probability. Implement the following functions\n",
    "* Implement `neural_net_image_input`\n",
    " * Return a [TF Placeholder](https://www.tensorflow.org/api_docs/python/tf/placeholder)\n",
    " * Set the shape using `image_shape` with batch size set to `None`.\n",
    " * Name the TensorFlow placeholder \"x\" using the TensorFlow `name` parameter in the [TF Placeholder](https://www.tensorflow.org/api_docs/python/tf/placeholder).\n",
    "* Implement `neural_net_label_input`\n",
    " * Return a [TF Placeholder](https://www.tensorflow.org/api_docs/python/tf/placeholder)\n",
    " * Set the shape using `n_classes` with batch size set to `None`.\n",
    " * Name the TensorFlow placeholder \"y\" using the TensorFlow `name` parameter in the [TF Placeholder](https://www.tensorflow.org/api_docs/python/tf/placeholder).\n",
    "* Implement `neural_net_keep_prob_input`\n",
    " * Return a [TF Placeholder](https://www.tensorflow.org/api_docs/python/tf/placeholder) for dropout keep probability.\n",
    " * Name the TensorFlow placeholder \"keep_prob\" using the TensorFlow `name` parameter in the [TF Placeholder](https://www.tensorflow.org/api_docs/python/tf/placeholder).\n",
    "\n",
    "These names will be used at the end of the project to load your saved model.\n",
    "\n",
    "Note: `None` for shapes in TensorFlow allow for a dynamic size."
   ]
  },
  {
   "cell_type": "code",
   "execution_count": 7,
   "metadata": {},
   "outputs": [
    {
     "name": "stdout",
     "output_type": "stream",
     "text": [
      "Image Input Tests Passed.\n",
      "Label Input Tests Passed.\n",
      "Keep Prob Tests Passed.\n"
     ]
    }
   ],
   "source": [
    "import tensorflow as tf\n",
    "\n",
    "def neural_net_image_input(image_shape):\n",
    "    \"\"\"\n",
    "    Return a Tensor for a batch of image input\n",
    "    : image_shape: Shape of the images\n",
    "    : return: Tensor for image input.\n",
    "    \"\"\"\n",
    "    # TODO: Implement Function\n",
    "    return tf.placeholder(tf.float32, [None,image_shape[0],image_shape[1],image_shape[2]], name = 'x')\n",
    "\n",
    "\n",
    "def neural_net_label_input(n_classes):\n",
    "    \"\"\"\n",
    "    Return a Tensor for a batch of label input\n",
    "    : n_classes: Number of classes\n",
    "    : return: Tensor for label input.\n",
    "    \"\"\"\n",
    "    # TODO: Implement Function\n",
    "    return tf.placeholder(tf.float32, [None, n_classes], name ='y')\n",
    "\n",
    "\n",
    "def neural_net_keep_prob_input():\n",
    "    \"\"\"\n",
    "    Return a Tensor for keep probability\n",
    "    : return: Tensor for keep probability.\n",
    "    \"\"\"\n",
    "    # TODO: Implement Function\n",
    "    return tf.placeholder(tf.float32, name ='keep_prob')\n",
    "\n",
    "\n",
    "\"\"\"\n",
    "DON'T MODIFY ANYTHING IN THIS CELL THAT IS BELOW THIS LINE\n",
    "\"\"\"\n",
    "tf.reset_default_graph()\n",
    "tests.test_nn_image_inputs(neural_net_image_input)\n",
    "tests.test_nn_label_inputs(neural_net_label_input)\n",
    "tests.test_nn_keep_prob_inputs(neural_net_keep_prob_input)"
   ]
  },
  {
   "cell_type": "markdown",
   "metadata": {},
   "source": [
    "### Convolution and Max Pooling Layer\n",
    "Convolution layers have a lot of success with images. For this code cell, you should implement the function `conv2d_maxpool` to apply convolution then max pooling:\n",
    "* Create the weight and bias using `conv_ksize`, `conv_num_outputs` and the shape of `x_tensor`.\n",
    "* Apply a convolution to `x_tensor` using weight and `conv_strides`.\n",
    " * We recommend you use same padding, but you're welcome to use any padding.\n",
    "* Add bias\n",
    "* Add a nonlinear activation to the convolution.\n",
    "* Apply Max Pooling using `pool_ksize` and `pool_strides`.\n",
    " * We recommend you use same padding, but you're welcome to use any padding.\n",
    "\n",
    "**Note:** You **can't** use [TensorFlow Layers](https://www.tensorflow.org/api_docs/python/tf/layers) or [TensorFlow Layers (contrib)](https://www.tensorflow.org/api_guides/python/contrib.layers) for **this** layer, but you can still use TensorFlow's [Neural Network](https://www.tensorflow.org/api_docs/python/tf/nn) package. You may still use the shortcut option for all the **other** layers."
   ]
  },
  {
   "cell_type": "code",
   "execution_count": 8,
   "metadata": {},
   "outputs": [
    {
     "name": "stdout",
     "output_type": "stream",
     "text": [
      "Tests Passed\n"
     ]
    }
   ],
   "source": [
    "def conv2d_maxpool(x_tensor, conv_num_outputs, conv_ksize, conv_strides, pool_ksize, pool_strides):\n",
    "    \"\"\"\n",
    "    Apply convolution then max pooling to x_tensor\n",
    "    :param x_tensor: TensorFlow Tensor\n",
    "    :param conv_num_outputs: Number of outputs for the convolutional layer\n",
    "    :param conv_ksize: kernal size 2-D Tuple for the convolutional layer\n",
    "    :param conv_strides: Stride 2-D Tuple for convolution\n",
    "    :param pool_ksize: kernal size 2-D Tuple for pool\n",
    "    :param pool_strides: Stride 2-D Tuple for pool\n",
    "    : return: A tensor that represents convolution and max pooling of x_tensor\n",
    "    \"\"\"\n",
    "    # TODO: Implement Function\n",
    "    x_shape = x_tensor.get_shape().as_list()[-1]\n",
    "    \n",
    "    W = tf.Variable(tf.random_normal([conv_ksize[0], conv_ksize[1], x_shape, conv_num_outputs], mean=0, stddev=0.1))\n",
    "    b = tf.Variable(tf.random_normal([conv_num_outputs]))\n",
    "    \n",
    "    x = tf.nn.conv2d(x_tensor, W, strides=[1, conv_strides[0], conv_strides[1], 1], padding='SAME')\n",
    "    x = tf.nn.bias_add(x, b)\n",
    "   \n",
    "    x = tf.nn.max_pool(x, ksize=[1, pool_ksize[0], pool_ksize[1], 1],\n",
    "                       strides=[1, pool_strides[0], pool_strides[1], 1], padding='SAME')\n",
    "    x = tf.nn.relu(x)\n",
    "\n",
    "    return x \n",
    "\n",
    "\n",
    "\"\"\"\n",
    "DON'T MODIFY ANYTHING IN THIS CELL THAT IS BELOW THIS LINE\n",
    "\"\"\"\n",
    "tests.test_con_pool(conv2d_maxpool)"
   ]
  },
  {
   "cell_type": "markdown",
   "metadata": {},
   "source": [
    "### Flatten Layer\n",
    "Implement the `flatten` function to change the dimension of `x_tensor` from a 4-D tensor to a 2-D tensor.  The output should be the shape (*Batch Size*, *Flattened Image Size*). Shortcut option: you can use classes from the [TensorFlow Layers](https://www.tensorflow.org/api_docs/python/tf/layers) or [TensorFlow Layers (contrib)](https://www.tensorflow.org/api_guides/python/contrib.layers) packages for this layer. For more of a challenge, only use other TensorFlow packages."
   ]
  },
  {
   "cell_type": "code",
   "execution_count": 9,
   "metadata": {},
   "outputs": [
    {
     "name": "stdout",
     "output_type": "stream",
     "text": [
      "Tests Passed\n"
     ]
    }
   ],
   "source": [
    "def flatten(x_tensor):\n",
    "    \"\"\"\n",
    "    Flatten x_tensor to (Batch Size, Flattened Image Size)\n",
    "    : x_tensor: A tensor of size (Batch Size, ...), where ... are the image dimensions.\n",
    "    : return: A tensor of size (Batch Size, Flattened Image Size).\n",
    "    \"\"\"\n",
    "    # TODO: Implement Function\n",
    "    \n",
    "    return tf.layers.Flatten()(x_tensor)\n",
    "\n",
    "\n",
    "\n",
    "\"\"\"\n",
    "DON'T MODIFY ANYTHING IN THIS CELL THAT IS BELOW THIS LINE\n",
    "\"\"\"\n",
    "tests.test_flatten(flatten)"
   ]
  },
  {
   "cell_type": "markdown",
   "metadata": {},
   "source": [
    "### Fully-Connected Layer\n",
    "Implement the `fully_conn` function to apply a fully connected layer to `x_tensor` with the shape (*Batch Size*, *num_outputs*). Shortcut option: you can use classes from the [TensorFlow Layers](https://www.tensorflow.org/api_docs/python/tf/layers) or [TensorFlow Layers (contrib)](https://www.tensorflow.org/api_guides/python/contrib.layers) packages for this layer. For more of a challenge, only use other TensorFlow packages."
   ]
  },
  {
   "cell_type": "code",
   "execution_count": 10,
   "metadata": {},
   "outputs": [
    {
     "name": "stdout",
     "output_type": "stream",
     "text": [
      "Tests Passed\n"
     ]
    }
   ],
   "source": [
    "def fully_conn(x_tensor, num_outputs):\n",
    "    \"\"\"\n",
    "    Apply a fully connected layer to x_tensor using weight and bias\n",
    "    : x_tensor: A 2-D tensor where the first dimension is batch size.\n",
    "    : num_outputs: The number of output that the new tensor should be.\n",
    "    : return: A 2-D tensor where the second dimension is num_outputs.\n",
    "    \"\"\"\n",
    "    # TODO: Implement Function\n",
    "    return  tf.nn.relu(tf.layers.Dense(num_outputs)(x_tensor))\n",
    "\n",
    "\n",
    "\"\"\"\n",
    "DON'T MODIFY ANYTHING IN THIS CELL THAT IS BELOW THIS LINE\n",
    "\"\"\"\n",
    "tests.test_fully_conn(fully_conn)"
   ]
  },
  {
   "cell_type": "markdown",
   "metadata": {},
   "source": [
    "### Output Layer\n",
    "Implement the `output` function to apply a fully connected layer to `x_tensor` with the shape (*Batch Size*, *num_outputs*). Shortcut option: you can use classes from the [TensorFlow Layers](https://www.tensorflow.org/api_docs/python/tf/layers) or [TensorFlow Layers (contrib)](https://www.tensorflow.org/api_guides/python/contrib.layers) packages for this layer. For more of a challenge, only use other TensorFlow packages.\n",
    "\n",
    "**Note:** Activation, softmax, or cross entropy should **not** be applied to this."
   ]
  },
  {
   "cell_type": "code",
   "execution_count": 11,
   "metadata": {},
   "outputs": [
    {
     "name": "stdout",
     "output_type": "stream",
     "text": [
      "Tests Passed\n"
     ]
    }
   ],
   "source": [
    "def output(x_tensor, num_outputs):\n",
    "    \"\"\"\n",
    "    Apply a output layer to x_tensor using weight and bias\n",
    "    : x_tensor: A 2-D tensor where the first dimension is batch size.\n",
    "    : num_outputs: The number of output that the new tensor should be.\n",
    "    : return: A 2-D tensor where the second dimension is num_outputs.\n",
    "    \"\"\"\n",
    "    # TODO: Implement Function\n",
    "    return tf.layers.dense(inputs=x_tensor, units=num_outputs)\n",
    "\n",
    "\n",
    "\n",
    "\"\"\"\n",
    "DON'T MODIFY ANYTHING IN THIS CELL THAT IS BELOW THIS LINE\n",
    "\"\"\"\n",
    "tests.test_output(output)"
   ]
  },
  {
   "cell_type": "markdown",
   "metadata": {},
   "source": [
    "### Create Convolutional Model\n",
    "Implement the function `conv_net` to create a convolutional neural network model. The function takes in a batch of images, `x`, and outputs logits.  Use the layers you created above to create this model:\n",
    "\n",
    "* Apply 1, 2, or 3 Convolution and Max Pool layers\n",
    "* Apply a Flatten Layer\n",
    "* Apply 1, 2, or 3 Fully Connected Layers\n",
    "* Apply an Output Layer\n",
    "* Return the output\n",
    "* Apply [TensorFlow's Dropout](https://www.tensorflow.org/api_docs/python/tf/nn/dropout) to one or more layers in the model using `keep_prob`. "
   ]
  },
  {
   "cell_type": "code",
   "execution_count": 12,
   "metadata": {},
   "outputs": [
    {
     "name": "stdout",
     "output_type": "stream",
     "text": [
      "Neural Network Built!\n"
     ]
    }
   ],
   "source": [
    "def conv_net(x, keep_prob):\n",
    "    \"\"\"\n",
    "    Create a convolutional neural network model\n",
    "    : x: Placeholder tensor that holds image data.\n",
    "    : keep_prob: Placeholder tensor that hold dropout keep probability.\n",
    "    : return: Tensor that represents logits\n",
    "    \"\"\"\n",
    "    # TODO: Apply 1, 2, or 3 Convolution and Max Pool layers\n",
    "    #    Play around with different number of outputs, kernel size and stride\n",
    "    # Function Definition from Above:\n",
    "    # Apply 1, 2, or 3 Convolution and Max Pool layers\n",
    "    conv_ksize = [3, 3]\n",
    "    conv_strides = [2, 2]\n",
    "    pool_ksize = [2, 2]\n",
    "    pool_strides = [2, 2]\n",
    "    num_outputs = 256\n",
    "\n",
    "    # TODO: Apply 1, 2, or 3 Convolution and Max Pool layers\n",
    "    #    Play around with different number of outputs, kernel size and stride\n",
    "    # Function Definition from Above:\n",
    "    #    conv2d_maxpool(x_tensor, conv_num_outputs, conv_ksize, conv_strides, pool_ksize, pool_strides)\n",
    "    layer_1 = conv2d_maxpool(x, 16, conv_ksize, conv_strides, pool_ksize, pool_strides)\n",
    "    layer_2 = conv2d_maxpool(layer_1, 32, conv_ksize, conv_strides, pool_ksize, pool_strides)\n",
    "    layer_3 = conv2d_maxpool(layer_2, 64, conv_ksize, conv_strides, pool_ksize, pool_strides)\n",
    "    \n",
    "    # TODO: Apply a Flatten Layer\n",
    "    # Function Definition from Above:\n",
    "    #   flatten(x_tensor)\n",
    "    flat_layer = flatten(layer_3)    \n",
    "\n",
    "    # TODO: Apply 1, 2, or 3 Fully Connected Layers\n",
    "    #    Play around with different number of outputs\n",
    "    # Function Definition from Above:\n",
    "    #   fully_conn(x_tensor, num_outputs)\n",
    "    fully_connected = fully_conn(flat_layer, num_outputs)\n",
    "    fully_connected = tf.nn.dropout(fully_connected, keep_prob)\n",
    "\n",
    "    # TODO: Apply an Output Layer\n",
    "    #    Set this to the number of classes\n",
    "    # Function Definition from Above:\n",
    "    #   output(x_tensor, num_outputs)\n",
    "    output_layer = output(fully_connected, 10)\n",
    "    \n",
    "    # TODO: return output\n",
    "    return output_layer\n",
    "\n",
    "\n",
    "\"\"\"\n",
    "DON'T MODIFY ANYTHING IN THIS CELL THAT IS BELOW THIS LINE\n",
    "\"\"\"\n",
    "\n",
    "##############################\n",
    "## Build the Neural Network ##\n",
    "##############################\n",
    "\n",
    "# Remove previous weights, bias, inputs, etc..\n",
    "tf.reset_default_graph()\n",
    "\n",
    "# Inputs\n",
    "x = neural_net_image_input((32, 32, 3))\n",
    "y = neural_net_label_input(10)\n",
    "keep_prob = neural_net_keep_prob_input()\n",
    "\n",
    "# Model\n",
    "logits = conv_net(x, keep_prob)\n",
    "\n",
    "# Name logits Tensor, so that is can be loaded from disk after training\n",
    "logits = tf.identity(logits, name='logits')\n",
    "\n",
    "# Loss and Optimizer\n",
    "cost = tf.reduce_mean(tf.nn.softmax_cross_entropy_with_logits(logits=logits, labels=y))\n",
    "optimizer = tf.train.AdamOptimizer().minimize(cost)\n",
    "\n",
    "# Accuracy\n",
    "correct_pred = tf.equal(tf.argmax(logits, 1), tf.argmax(y, 1))\n",
    "accuracy = tf.reduce_mean(tf.cast(correct_pred, tf.float32), name='accuracy')\n",
    "\n",
    "tests.test_conv_net(conv_net)"
   ]
  },
  {
   "cell_type": "markdown",
   "metadata": {},
   "source": [
    "## Train the Neural Network\n",
    "### Single Optimization\n",
    "Implement the function `train_neural_network` to do a single optimization.  The optimization should use `optimizer` to optimize in `session` with a `feed_dict` of the following:\n",
    "* `x` for image input\n",
    "* `y` for labels\n",
    "* `keep_prob` for keep probability for dropout\n",
    "\n",
    "This function will be called for each batch, so `tf.global_variables_initializer()` has already been called.\n",
    "\n",
    "Note: Nothing needs to be returned. This function is only optimizing the neural network."
   ]
  },
  {
   "cell_type": "code",
   "execution_count": 13,
   "metadata": {},
   "outputs": [
    {
     "name": "stdout",
     "output_type": "stream",
     "text": [
      "Tests Passed\n"
     ]
    }
   ],
   "source": [
    "def train_neural_network(session, optimizer, keep_probability, feature_batch, label_batch):\n",
    "    \"\"\"\n",
    "    Optimize the session on a batch of images and labels\n",
    "    : session: Current TensorFlow session\n",
    "    : optimizer: TensorFlow optimizer function\n",
    "    : keep_probability: keep probability\n",
    "    : feature_batch: Batch of Numpy image data\n",
    "    : label_batch: Batch of Numpy label data\n",
    "    \"\"\"\n",
    "    # TODO: Implement Function\n",
    "    session.run(optimizer, feed_dict={x: feature_batch, y: label_batch, keep_prob: keep_probability})\n",
    "\n",
    "\n",
    "\"\"\"\n",
    "DON'T MODIFY ANYTHING IN THIS CELL THAT IS BELOW THIS LINE\n",
    "\"\"\"\n",
    "tests.test_train_nn(train_neural_network)"
   ]
  },
  {
   "cell_type": "markdown",
   "metadata": {},
   "source": [
    "### Show Stats\n",
    "Implement the function `print_stats` to print loss and validation accuracy.  Use the global variables `valid_features` and `valid_labels` to calculate validation accuracy.  Use a keep probability of `1.0` to calculate the loss and validation accuracy."
   ]
  },
  {
   "cell_type": "code",
   "execution_count": 14,
   "metadata": {},
   "outputs": [],
   "source": [
    "def print_stats(session, feature_batch, label_batch, cost, accuracy):\n",
    "    \"\"\"\n",
    "    Print information about loss and validation accuracy\n",
    "    : session: Current TensorFlow session\n",
    "    : feature_batch: Batch of Numpy image data\n",
    "    : label_batch: Batch of Numpy label data\n",
    "    : cost: TensorFlow cost function\n",
    "    : accuracy: TensorFlow accuracy function\n",
    "    \"\"\"\n",
    "    # TODO: Implement Function\n",
    "    loss = session.run(cost, feed_dict={x: feature_batch, y: label_batch, keep_prob: 1.})\n",
    "    \n",
    "    valid_acc = session.run(accuracy, feed_dict={\n",
    "    x: valid_features ,\n",
    "    y: valid_labels,\n",
    "    keep_prob: 1.})\n",
    "\n",
    "    print('Loss: {:>10.4f} Validation Accuracy: {:.6f}'.format(loss,valid_acc))\n",
    "\n"
   ]
  },
  {
   "cell_type": "markdown",
   "metadata": {},
   "source": [
    "### Hyperparameters\n",
    "Tune the following parameters:\n",
    "* Set `epochs` to the number of iterations until the network stops learning or start overfitting\n",
    "* Set `batch_size` to the highest number that your machine has memory for.  Most people set them to common sizes of memory:\n",
    " * 64\n",
    " * 128\n",
    " * 256\n",
    " * ...\n",
    "* Set `keep_probability` to the probability of keeping a node using dropout"
   ]
  },
  {
   "cell_type": "code",
   "execution_count": 15,
   "metadata": {},
   "outputs": [],
   "source": [
    "# TODO: Tune Parameters\n",
    "epochs = 50\n",
    "batch_size = 128\n",
    "keep_probability = 0.8"
   ]
  },
  {
   "cell_type": "markdown",
   "metadata": {},
   "source": [
    "### Train on a Single CIFAR-10 Batch\n",
    "Instead of training the neural network on all the CIFAR-10 batches of data, let's use a single batch. This should save time while you iterate on the model to get a better accuracy.  Once the final validation accuracy is 50% or greater, run the model on all the data in the next section."
   ]
  },
  {
   "cell_type": "code",
   "execution_count": 16,
   "metadata": {
    "scrolled": true
   },
   "outputs": [
    {
     "name": "stdout",
     "output_type": "stream",
     "text": [
      "Checking the Training on a Single Batch...\n",
      "Epoch  1, CIFAR-10 Batch 1:  Loss:     2.1927 Validation Accuracy: 0.224400\n",
      "Epoch  2, CIFAR-10 Batch 1:  Loss:     2.1168 Validation Accuracy: 0.302200\n",
      "Epoch  3, CIFAR-10 Batch 1:  Loss:     2.0230 Validation Accuracy: 0.338200\n",
      "Epoch  4, CIFAR-10 Batch 1:  Loss:     1.9186 Validation Accuracy: 0.359800\n",
      "Epoch  5, CIFAR-10 Batch 1:  Loss:     1.8466 Validation Accuracy: 0.383600\n",
      "Epoch  6, CIFAR-10 Batch 1:  Loss:     1.7865 Validation Accuracy: 0.398600\n",
      "Epoch  7, CIFAR-10 Batch 1:  Loss:     1.7432 Validation Accuracy: 0.404600\n",
      "Epoch  8, CIFAR-10 Batch 1:  Loss:     1.7197 Validation Accuracy: 0.416200\n",
      "Epoch  9, CIFAR-10 Batch 1:  Loss:     1.6910 Validation Accuracy: 0.413600\n",
      "Epoch 10, CIFAR-10 Batch 1:  Loss:     1.6596 Validation Accuracy: 0.420400\n",
      "Epoch 11, CIFAR-10 Batch 1:  Loss:     1.6407 Validation Accuracy: 0.423200\n",
      "Epoch 12, CIFAR-10 Batch 1:  Loss:     1.6100 Validation Accuracy: 0.426600\n",
      "Epoch 13, CIFAR-10 Batch 1:  Loss:     1.5881 Validation Accuracy: 0.428000\n",
      "Epoch 14, CIFAR-10 Batch 1:  Loss:     1.5496 Validation Accuracy: 0.433600\n",
      "Epoch 15, CIFAR-10 Batch 1:  Loss:     1.5202 Validation Accuracy: 0.431800\n",
      "Epoch 16, CIFAR-10 Batch 1:  Loss:     1.4799 Validation Accuracy: 0.436400\n",
      "Epoch 17, CIFAR-10 Batch 1:  Loss:     1.4623 Validation Accuracy: 0.438800\n",
      "Epoch 18, CIFAR-10 Batch 1:  Loss:     1.4302 Validation Accuracy: 0.442400\n",
      "Epoch 19, CIFAR-10 Batch 1:  Loss:     1.3947 Validation Accuracy: 0.446000\n",
      "Epoch 20, CIFAR-10 Batch 1:  Loss:     1.3616 Validation Accuracy: 0.447800\n",
      "Epoch 21, CIFAR-10 Batch 1:  Loss:     1.3407 Validation Accuracy: 0.446200\n",
      "Epoch 22, CIFAR-10 Batch 1:  Loss:     1.3305 Validation Accuracy: 0.447600\n",
      "Epoch 23, CIFAR-10 Batch 1:  Loss:     1.2862 Validation Accuracy: 0.455200\n",
      "Epoch 24, CIFAR-10 Batch 1:  Loss:     1.2591 Validation Accuracy: 0.455800\n",
      "Epoch 25, CIFAR-10 Batch 1:  Loss:     1.2307 Validation Accuracy: 0.454600\n",
      "Epoch 26, CIFAR-10 Batch 1:  Loss:     1.2275 Validation Accuracy: 0.457400\n",
      "Epoch 27, CIFAR-10 Batch 1:  Loss:     1.1817 Validation Accuracy: 0.462800\n",
      "Epoch 28, CIFAR-10 Batch 1:  Loss:     1.1792 Validation Accuracy: 0.462400\n",
      "Epoch 29, CIFAR-10 Batch 1:  Loss:     1.1637 Validation Accuracy: 0.461600\n",
      "Epoch 30, CIFAR-10 Batch 1:  Loss:     1.1312 Validation Accuracy: 0.466000\n",
      "Epoch 31, CIFAR-10 Batch 1:  Loss:     1.1146 Validation Accuracy: 0.468600\n",
      "Epoch 32, CIFAR-10 Batch 1:  Loss:     1.1112 Validation Accuracy: 0.461800\n",
      "Epoch 33, CIFAR-10 Batch 1:  Loss:     1.0601 Validation Accuracy: 0.465800\n",
      "Epoch 34, CIFAR-10 Batch 1:  Loss:     1.0773 Validation Accuracy: 0.467400\n",
      "Epoch 35, CIFAR-10 Batch 1:  Loss:     1.0544 Validation Accuracy: 0.467800\n",
      "Epoch 36, CIFAR-10 Batch 1:  Loss:     1.0384 Validation Accuracy: 0.471000\n",
      "Epoch 37, CIFAR-10 Batch 1:  Loss:     1.0223 Validation Accuracy: 0.475000\n",
      "Epoch 38, CIFAR-10 Batch 1:  Loss:     1.0122 Validation Accuracy: 0.472400\n",
      "Epoch 39, CIFAR-10 Batch 1:  Loss:     0.9928 Validation Accuracy: 0.475600\n",
      "Epoch 40, CIFAR-10 Batch 1:  Loss:     0.9811 Validation Accuracy: 0.473000\n",
      "Epoch 41, CIFAR-10 Batch 1:  Loss:     0.9575 Validation Accuracy: 0.474200\n",
      "Epoch 42, CIFAR-10 Batch 1:  Loss:     0.9488 Validation Accuracy: 0.480400\n",
      "Epoch 43, CIFAR-10 Batch 1:  Loss:     0.9291 Validation Accuracy: 0.478800\n",
      "Epoch 44, CIFAR-10 Batch 1:  Loss:     0.9315 Validation Accuracy: 0.474800\n",
      "Epoch 45, CIFAR-10 Batch 1:  Loss:     0.9210 Validation Accuracy: 0.480000\n",
      "Epoch 46, CIFAR-10 Batch 1:  Loss:     0.8933 Validation Accuracy: 0.481000\n",
      "Epoch 47, CIFAR-10 Batch 1:  Loss:     0.8988 Validation Accuracy: 0.473800\n",
      "Epoch 48, CIFAR-10 Batch 1:  Loss:     0.8924 Validation Accuracy: 0.477200\n",
      "Epoch 49, CIFAR-10 Batch 1:  Loss:     0.8675 Validation Accuracy: 0.480400\n",
      "Epoch 50, CIFAR-10 Batch 1:  Loss:     0.8535 Validation Accuracy: 0.480200\n"
     ]
    }
   ],
   "source": [
    "\"\"\"\n",
    "DON'T MODIFY ANYTHING IN THIS CELL\n",
    "\"\"\"\n",
    "print('Checking the Training on a Single Batch...')\n",
    "\n",
    "gpu_options = tf.GPUOptions(per_process_gpu_memory_fraction=0.5)\n",
    "with tf.Session(config=tf.ConfigProto(gpu_options=gpu_options)) as sess:\n",
    "    # Initializing the variables\n",
    "    sess.run(tf.global_variables_initializer())\n",
    "    \n",
    "    # Training cycle\n",
    "    for epoch in range(epochs):\n",
    "        batch_i = 1\n",
    "        for batch_features, batch_labels in helper.load_preprocess_training_batch(batch_i, batch_size):\n",
    "            train_neural_network(sess, optimizer, keep_probability, batch_features, batch_labels)\n",
    "        print('Epoch {:>2}, CIFAR-10 Batch {}:  '.format(epoch + 1, batch_i), end='')\n",
    "        print_stats(sess, batch_features, batch_labels, cost, accuracy)"
   ]
  },
  {
   "cell_type": "markdown",
   "metadata": {},
   "source": [
    "### Fully Train the Model\n",
    "Now that you got a good accuracy with a single CIFAR-10 batch, try it with all five batches."
   ]
  },
  {
   "cell_type": "code",
   "execution_count": 17,
   "metadata": {
    "scrolled": true
   },
   "outputs": [
    {
     "name": "stdout",
     "output_type": "stream",
     "text": [
      "Training...\n",
      "Epoch  1, CIFAR-10 Batch 1:  Loss:     2.1870 Validation Accuracy: 0.211400\n",
      "Epoch  1, CIFAR-10 Batch 2:  Loss:     2.0346 Validation Accuracy: 0.267600\n",
      "Epoch  1, CIFAR-10 Batch 3:  Loss:     1.7937 Validation Accuracy: 0.306800\n",
      "Epoch  1, CIFAR-10 Batch 4:  Loss:     1.8553 Validation Accuracy: 0.346200\n",
      "Epoch  1, CIFAR-10 Batch 5:  Loss:     1.7761 Validation Accuracy: 0.361600\n",
      "Epoch  2, CIFAR-10 Batch 1:  Loss:     1.9247 Validation Accuracy: 0.384600\n",
      "Epoch  2, CIFAR-10 Batch 2:  Loss:     1.9132 Validation Accuracy: 0.391200\n",
      "Epoch  2, CIFAR-10 Batch 3:  Loss:     1.4802 Validation Accuracy: 0.374000\n",
      "Epoch  2, CIFAR-10 Batch 4:  Loss:     1.5826 Validation Accuracy: 0.418200\n",
      "Epoch  2, CIFAR-10 Batch 5:  Loss:     1.6861 Validation Accuracy: 0.422800\n",
      "Epoch  3, CIFAR-10 Batch 1:  Loss:     1.8452 Validation Accuracy: 0.432600\n",
      "Epoch  3, CIFAR-10 Batch 2:  Loss:     1.8259 Validation Accuracy: 0.434600\n",
      "Epoch  3, CIFAR-10 Batch 3:  Loss:     1.3698 Validation Accuracy: 0.404800\n",
      "Epoch  3, CIFAR-10 Batch 4:  Loss:     1.4289 Validation Accuracy: 0.443600\n",
      "Epoch  3, CIFAR-10 Batch 5:  Loss:     1.6504 Validation Accuracy: 0.440400\n",
      "Epoch  4, CIFAR-10 Batch 1:  Loss:     1.7538 Validation Accuracy: 0.452400\n",
      "Epoch  4, CIFAR-10 Batch 2:  Loss:     1.7529 Validation Accuracy: 0.457200\n",
      "Epoch  4, CIFAR-10 Batch 3:  Loss:     1.2857 Validation Accuracy: 0.437000\n",
      "Epoch  4, CIFAR-10 Batch 4:  Loss:     1.3471 Validation Accuracy: 0.465000\n",
      "Epoch  4, CIFAR-10 Batch 5:  Loss:     1.5868 Validation Accuracy: 0.456400\n",
      "Epoch  5, CIFAR-10 Batch 1:  Loss:     1.7010 Validation Accuracy: 0.466400\n",
      "Epoch  5, CIFAR-10 Batch 2:  Loss:     1.6376 Validation Accuracy: 0.463200\n",
      "Epoch  5, CIFAR-10 Batch 3:  Loss:     1.2233 Validation Accuracy: 0.452200\n",
      "Epoch  5, CIFAR-10 Batch 4:  Loss:     1.2894 Validation Accuracy: 0.479600\n",
      "Epoch  5, CIFAR-10 Batch 5:  Loss:     1.5409 Validation Accuracy: 0.459800\n",
      "Epoch  6, CIFAR-10 Batch 1:  Loss:     1.6395 Validation Accuracy: 0.476000\n",
      "Epoch  6, CIFAR-10 Batch 2:  Loss:     1.5537 Validation Accuracy: 0.476400\n",
      "Epoch  6, CIFAR-10 Batch 3:  Loss:     1.1831 Validation Accuracy: 0.470000\n",
      "Epoch  6, CIFAR-10 Batch 4:  Loss:     1.2343 Validation Accuracy: 0.489400\n",
      "Epoch  6, CIFAR-10 Batch 5:  Loss:     1.4937 Validation Accuracy: 0.473600\n",
      "Epoch  7, CIFAR-10 Batch 1:  Loss:     1.5970 Validation Accuracy: 0.484000\n",
      "Epoch  7, CIFAR-10 Batch 2:  Loss:     1.4928 Validation Accuracy: 0.486600\n",
      "Epoch  7, CIFAR-10 Batch 3:  Loss:     1.1447 Validation Accuracy: 0.471600\n",
      "Epoch  7, CIFAR-10 Batch 4:  Loss:     1.1943 Validation Accuracy: 0.496000\n",
      "Epoch  7, CIFAR-10 Batch 5:  Loss:     1.4576 Validation Accuracy: 0.481200\n",
      "Epoch  8, CIFAR-10 Batch 1:  Loss:     1.5362 Validation Accuracy: 0.485600\n",
      "Epoch  8, CIFAR-10 Batch 2:  Loss:     1.4063 Validation Accuracy: 0.484800\n",
      "Epoch  8, CIFAR-10 Batch 3:  Loss:     1.1127 Validation Accuracy: 0.486800\n",
      "Epoch  8, CIFAR-10 Batch 4:  Loss:     1.1696 Validation Accuracy: 0.506400\n",
      "Epoch  8, CIFAR-10 Batch 5:  Loss:     1.4096 Validation Accuracy: 0.485200\n",
      "Epoch  9, CIFAR-10 Batch 1:  Loss:     1.5216 Validation Accuracy: 0.492200\n",
      "Epoch  9, CIFAR-10 Batch 2:  Loss:     1.3652 Validation Accuracy: 0.491400\n",
      "Epoch  9, CIFAR-10 Batch 3:  Loss:     1.1090 Validation Accuracy: 0.497400\n",
      "Epoch  9, CIFAR-10 Batch 4:  Loss:     1.1582 Validation Accuracy: 0.515800\n",
      "Epoch  9, CIFAR-10 Batch 5:  Loss:     1.3709 Validation Accuracy: 0.495600\n",
      "Epoch 10, CIFAR-10 Batch 1:  Loss:     1.4710 Validation Accuracy: 0.505200\n",
      "Epoch 10, CIFAR-10 Batch 2:  Loss:     1.3291 Validation Accuracy: 0.496400\n",
      "Epoch 10, CIFAR-10 Batch 3:  Loss:     1.0922 Validation Accuracy: 0.498800\n",
      "Epoch 10, CIFAR-10 Batch 4:  Loss:     1.1251 Validation Accuracy: 0.519400\n",
      "Epoch 10, CIFAR-10 Batch 5:  Loss:     1.3570 Validation Accuracy: 0.503600\n",
      "Epoch 11, CIFAR-10 Batch 1:  Loss:     1.4221 Validation Accuracy: 0.507400\n",
      "Epoch 11, CIFAR-10 Batch 2:  Loss:     1.3065 Validation Accuracy: 0.498000\n",
      "Epoch 11, CIFAR-10 Batch 3:  Loss:     1.0466 Validation Accuracy: 0.516000\n",
      "Epoch 11, CIFAR-10 Batch 4:  Loss:     1.1038 Validation Accuracy: 0.522000\n",
      "Epoch 11, CIFAR-10 Batch 5:  Loss:     1.3605 Validation Accuracy: 0.501000\n",
      "Epoch 12, CIFAR-10 Batch 1:  Loss:     1.4060 Validation Accuracy: 0.508400\n",
      "Epoch 12, CIFAR-10 Batch 2:  Loss:     1.2853 Validation Accuracy: 0.510600\n",
      "Epoch 12, CIFAR-10 Batch 3:  Loss:     1.0516 Validation Accuracy: 0.512400\n",
      "Epoch 12, CIFAR-10 Batch 4:  Loss:     1.0856 Validation Accuracy: 0.524000\n",
      "Epoch 12, CIFAR-10 Batch 5:  Loss:     1.3021 Validation Accuracy: 0.515400\n",
      "Epoch 13, CIFAR-10 Batch 1:  Loss:     1.3630 Validation Accuracy: 0.515000\n",
      "Epoch 13, CIFAR-10 Batch 2:  Loss:     1.2616 Validation Accuracy: 0.508600\n",
      "Epoch 13, CIFAR-10 Batch 3:  Loss:     1.0331 Validation Accuracy: 0.519200\n",
      "Epoch 13, CIFAR-10 Batch 4:  Loss:     1.0665 Validation Accuracy: 0.536600\n",
      "Epoch 13, CIFAR-10 Batch 5:  Loss:     1.2968 Validation Accuracy: 0.513800\n",
      "Epoch 14, CIFAR-10 Batch 1:  Loss:     1.3339 Validation Accuracy: 0.522000\n",
      "Epoch 14, CIFAR-10 Batch 2:  Loss:     1.2618 Validation Accuracy: 0.519400\n",
      "Epoch 14, CIFAR-10 Batch 3:  Loss:     1.0017 Validation Accuracy: 0.520600\n",
      "Epoch 14, CIFAR-10 Batch 4:  Loss:     1.0254 Validation Accuracy: 0.535600\n",
      "Epoch 14, CIFAR-10 Batch 5:  Loss:     1.2722 Validation Accuracy: 0.528600\n",
      "Epoch 15, CIFAR-10 Batch 1:  Loss:     1.2976 Validation Accuracy: 0.527400\n",
      "Epoch 15, CIFAR-10 Batch 2:  Loss:     1.2211 Validation Accuracy: 0.519600\n",
      "Epoch 15, CIFAR-10 Batch 3:  Loss:     0.9624 Validation Accuracy: 0.530000\n",
      "Epoch 15, CIFAR-10 Batch 4:  Loss:     0.9869 Validation Accuracy: 0.536200\n",
      "Epoch 15, CIFAR-10 Batch 5:  Loss:     1.2801 Validation Accuracy: 0.520600\n",
      "Epoch 16, CIFAR-10 Batch 1:  Loss:     1.2958 Validation Accuracy: 0.524800\n",
      "Epoch 16, CIFAR-10 Batch 2:  Loss:     1.1864 Validation Accuracy: 0.525800\n",
      "Epoch 16, CIFAR-10 Batch 3:  Loss:     0.9545 Validation Accuracy: 0.523200\n",
      "Epoch 16, CIFAR-10 Batch 4:  Loss:     0.9734 Validation Accuracy: 0.540800\n",
      "Epoch 16, CIFAR-10 Batch 5:  Loss:     1.2101 Validation Accuracy: 0.533000\n",
      "Epoch 17, CIFAR-10 Batch 1:  Loss:     1.2625 Validation Accuracy: 0.531600\n",
      "Epoch 17, CIFAR-10 Batch 2:  Loss:     1.1813 Validation Accuracy: 0.536400\n",
      "Epoch 17, CIFAR-10 Batch 3:  Loss:     0.8999 Validation Accuracy: 0.534200\n",
      "Epoch 17, CIFAR-10 Batch 4:  Loss:     0.9508 Validation Accuracy: 0.546600\n",
      "Epoch 17, CIFAR-10 Batch 5:  Loss:     1.2219 Validation Accuracy: 0.530400\n",
      "Epoch 18, CIFAR-10 Batch 1:  Loss:     1.2196 Validation Accuracy: 0.534400\n",
      "Epoch 18, CIFAR-10 Batch 2:  Loss:     1.1652 Validation Accuracy: 0.535600\n",
      "Epoch 18, CIFAR-10 Batch 3:  Loss:     0.9115 Validation Accuracy: 0.536600\n",
      "Epoch 18, CIFAR-10 Batch 4:  Loss:     0.9342 Validation Accuracy: 0.545600\n",
      "Epoch 18, CIFAR-10 Batch 5:  Loss:     1.2023 Validation Accuracy: 0.527400\n",
      "Epoch 19, CIFAR-10 Batch 1:  Loss:     1.1890 Validation Accuracy: 0.539000\n",
      "Epoch 19, CIFAR-10 Batch 2:  Loss:     1.1154 Validation Accuracy: 0.540200\n",
      "Epoch 19, CIFAR-10 Batch 3:  Loss:     0.8697 Validation Accuracy: 0.538200\n",
      "Epoch 19, CIFAR-10 Batch 4:  Loss:     0.9080 Validation Accuracy: 0.549600\n",
      "Epoch 19, CIFAR-10 Batch 5:  Loss:     1.2023 Validation Accuracy: 0.530000\n",
      "Epoch 20, CIFAR-10 Batch 1:  Loss:     1.1895 Validation Accuracy: 0.540000\n",
      "Epoch 20, CIFAR-10 Batch 2:  Loss:     1.0758 Validation Accuracy: 0.539000\n",
      "Epoch 20, CIFAR-10 Batch 3:  Loss:     0.8638 Validation Accuracy: 0.532400\n",
      "Epoch 20, CIFAR-10 Batch 4:  Loss:     0.8551 Validation Accuracy: 0.552800\n",
      "Epoch 20, CIFAR-10 Batch 5:  Loss:     1.1992 Validation Accuracy: 0.531600\n",
      "Epoch 21, CIFAR-10 Batch 1:  Loss:     1.1493 Validation Accuracy: 0.544600\n",
      "Epoch 21, CIFAR-10 Batch 2:  Loss:     1.0706 Validation Accuracy: 0.539600\n",
      "Epoch 21, CIFAR-10 Batch 3:  Loss:     0.8422 Validation Accuracy: 0.530600\n",
      "Epoch 21, CIFAR-10 Batch 4:  Loss:     0.8360 Validation Accuracy: 0.554600\n",
      "Epoch 21, CIFAR-10 Batch 5:  Loss:     1.1481 Validation Accuracy: 0.541200\n",
      "Epoch 22, CIFAR-10 Batch 1:  Loss:     1.1409 Validation Accuracy: 0.541000\n",
      "Epoch 22, CIFAR-10 Batch 2:  Loss:     1.0553 Validation Accuracy: 0.548400\n",
      "Epoch 22, CIFAR-10 Batch 3:  Loss:     0.8318 Validation Accuracy: 0.532600\n"
     ]
    },
    {
     "name": "stdout",
     "output_type": "stream",
     "text": [
      "Epoch 22, CIFAR-10 Batch 4:  Loss:     0.8111 Validation Accuracy: 0.558600\n",
      "Epoch 22, CIFAR-10 Batch 5:  Loss:     1.1419 Validation Accuracy: 0.540600\n",
      "Epoch 23, CIFAR-10 Batch 1:  Loss:     1.1373 Validation Accuracy: 0.539400\n",
      "Epoch 23, CIFAR-10 Batch 2:  Loss:     1.0300 Validation Accuracy: 0.550000\n",
      "Epoch 23, CIFAR-10 Batch 3:  Loss:     0.8015 Validation Accuracy: 0.536000\n",
      "Epoch 23, CIFAR-10 Batch 4:  Loss:     0.8039 Validation Accuracy: 0.557800\n",
      "Epoch 23, CIFAR-10 Batch 5:  Loss:     1.1160 Validation Accuracy: 0.542800\n",
      "Epoch 24, CIFAR-10 Batch 1:  Loss:     1.1226 Validation Accuracy: 0.555600\n",
      "Epoch 24, CIFAR-10 Batch 2:  Loss:     1.0321 Validation Accuracy: 0.550400\n",
      "Epoch 24, CIFAR-10 Batch 3:  Loss:     0.8198 Validation Accuracy: 0.548800\n",
      "Epoch 24, CIFAR-10 Batch 4:  Loss:     0.7705 Validation Accuracy: 0.565600\n",
      "Epoch 24, CIFAR-10 Batch 5:  Loss:     1.0804 Validation Accuracy: 0.547600\n",
      "Epoch 25, CIFAR-10 Batch 1:  Loss:     1.1297 Validation Accuracy: 0.549800\n",
      "Epoch 25, CIFAR-10 Batch 2:  Loss:     1.0034 Validation Accuracy: 0.556200\n",
      "Epoch 25, CIFAR-10 Batch 3:  Loss:     0.7987 Validation Accuracy: 0.553400\n",
      "Epoch 25, CIFAR-10 Batch 4:  Loss:     0.7620 Validation Accuracy: 0.557000\n",
      "Epoch 25, CIFAR-10 Batch 5:  Loss:     1.0711 Validation Accuracy: 0.550000\n",
      "Epoch 26, CIFAR-10 Batch 1:  Loss:     1.1133 Validation Accuracy: 0.554000\n",
      "Epoch 26, CIFAR-10 Batch 2:  Loss:     0.9950 Validation Accuracy: 0.553200\n",
      "Epoch 26, CIFAR-10 Batch 3:  Loss:     0.7783 Validation Accuracy: 0.551400\n",
      "Epoch 26, CIFAR-10 Batch 4:  Loss:     0.7470 Validation Accuracy: 0.561400\n",
      "Epoch 26, CIFAR-10 Batch 5:  Loss:     1.0324 Validation Accuracy: 0.547600\n",
      "Epoch 27, CIFAR-10 Batch 1:  Loss:     1.0731 Validation Accuracy: 0.555400\n",
      "Epoch 27, CIFAR-10 Batch 2:  Loss:     0.9681 Validation Accuracy: 0.561400\n",
      "Epoch 27, CIFAR-10 Batch 3:  Loss:     0.7939 Validation Accuracy: 0.552600\n",
      "Epoch 27, CIFAR-10 Batch 4:  Loss:     0.7305 Validation Accuracy: 0.566600\n",
      "Epoch 27, CIFAR-10 Batch 5:  Loss:     1.0276 Validation Accuracy: 0.548200\n",
      "Epoch 28, CIFAR-10 Batch 1:  Loss:     1.0549 Validation Accuracy: 0.552600\n",
      "Epoch 28, CIFAR-10 Batch 2:  Loss:     1.0082 Validation Accuracy: 0.559800\n",
      "Epoch 28, CIFAR-10 Batch 3:  Loss:     0.7633 Validation Accuracy: 0.552600\n",
      "Epoch 28, CIFAR-10 Batch 4:  Loss:     0.7104 Validation Accuracy: 0.568600\n",
      "Epoch 28, CIFAR-10 Batch 5:  Loss:     0.9965 Validation Accuracy: 0.554200\n",
      "Epoch 29, CIFAR-10 Batch 1:  Loss:     1.0530 Validation Accuracy: 0.558000\n",
      "Epoch 29, CIFAR-10 Batch 2:  Loss:     0.9601 Validation Accuracy: 0.559200\n",
      "Epoch 29, CIFAR-10 Batch 3:  Loss:     0.7535 Validation Accuracy: 0.543000\n",
      "Epoch 29, CIFAR-10 Batch 4:  Loss:     0.6969 Validation Accuracy: 0.565200\n",
      "Epoch 29, CIFAR-10 Batch 5:  Loss:     0.9872 Validation Accuracy: 0.555000\n",
      "Epoch 30, CIFAR-10 Batch 1:  Loss:     1.0230 Validation Accuracy: 0.561400\n",
      "Epoch 30, CIFAR-10 Batch 2:  Loss:     0.9534 Validation Accuracy: 0.565400\n",
      "Epoch 30, CIFAR-10 Batch 3:  Loss:     0.7495 Validation Accuracy: 0.558600\n",
      "Epoch 30, CIFAR-10 Batch 4:  Loss:     0.6742 Validation Accuracy: 0.567800\n",
      "Epoch 30, CIFAR-10 Batch 5:  Loss:     0.9486 Validation Accuracy: 0.561400\n",
      "Epoch 31, CIFAR-10 Batch 1:  Loss:     1.0014 Validation Accuracy: 0.562200\n",
      "Epoch 31, CIFAR-10 Batch 2:  Loss:     0.9405 Validation Accuracy: 0.562800\n",
      "Epoch 31, CIFAR-10 Batch 3:  Loss:     0.7202 Validation Accuracy: 0.553600\n",
      "Epoch 31, CIFAR-10 Batch 4:  Loss:     0.6668 Validation Accuracy: 0.564400\n",
      "Epoch 31, CIFAR-10 Batch 5:  Loss:     0.9720 Validation Accuracy: 0.559400\n",
      "Epoch 32, CIFAR-10 Batch 1:  Loss:     0.9871 Validation Accuracy: 0.565200\n",
      "Epoch 32, CIFAR-10 Batch 2:  Loss:     0.8939 Validation Accuracy: 0.564600\n",
      "Epoch 32, CIFAR-10 Batch 3:  Loss:     0.7415 Validation Accuracy: 0.552800\n",
      "Epoch 32, CIFAR-10 Batch 4:  Loss:     0.6551 Validation Accuracy: 0.566200\n",
      "Epoch 32, CIFAR-10 Batch 5:  Loss:     0.9435 Validation Accuracy: 0.560200\n",
      "Epoch 33, CIFAR-10 Batch 1:  Loss:     0.9813 Validation Accuracy: 0.564800\n",
      "Epoch 33, CIFAR-10 Batch 2:  Loss:     0.8966 Validation Accuracy: 0.562600\n",
      "Epoch 33, CIFAR-10 Batch 3:  Loss:     0.7190 Validation Accuracy: 0.561800\n",
      "Epoch 33, CIFAR-10 Batch 4:  Loss:     0.6466 Validation Accuracy: 0.566200\n",
      "Epoch 33, CIFAR-10 Batch 5:  Loss:     0.9408 Validation Accuracy: 0.556000\n",
      "Epoch 34, CIFAR-10 Batch 1:  Loss:     0.9516 Validation Accuracy: 0.568200\n",
      "Epoch 34, CIFAR-10 Batch 2:  Loss:     0.8950 Validation Accuracy: 0.569400\n",
      "Epoch 34, CIFAR-10 Batch 3:  Loss:     0.7198 Validation Accuracy: 0.562000\n",
      "Epoch 34, CIFAR-10 Batch 4:  Loss:     0.6360 Validation Accuracy: 0.565600\n",
      "Epoch 34, CIFAR-10 Batch 5:  Loss:     0.9117 Validation Accuracy: 0.561600\n",
      "Epoch 35, CIFAR-10 Batch 1:  Loss:     0.9402 Validation Accuracy: 0.568800\n",
      "Epoch 35, CIFAR-10 Batch 2:  Loss:     0.9133 Validation Accuracy: 0.565600\n",
      "Epoch 35, CIFAR-10 Batch 3:  Loss:     0.7026 Validation Accuracy: 0.561200\n",
      "Epoch 35, CIFAR-10 Batch 4:  Loss:     0.6414 Validation Accuracy: 0.566800\n",
      "Epoch 35, CIFAR-10 Batch 5:  Loss:     0.9292 Validation Accuracy: 0.555800\n",
      "Epoch 36, CIFAR-10 Batch 1:  Loss:     0.9405 Validation Accuracy: 0.572200\n",
      "Epoch 36, CIFAR-10 Batch 2:  Loss:     0.8865 Validation Accuracy: 0.564000\n",
      "Epoch 36, CIFAR-10 Batch 3:  Loss:     0.6956 Validation Accuracy: 0.563600\n",
      "Epoch 36, CIFAR-10 Batch 4:  Loss:     0.6234 Validation Accuracy: 0.563400\n",
      "Epoch 36, CIFAR-10 Batch 5:  Loss:     0.8828 Validation Accuracy: 0.558000\n",
      "Epoch 37, CIFAR-10 Batch 1:  Loss:     0.9243 Validation Accuracy: 0.570800\n",
      "Epoch 37, CIFAR-10 Batch 2:  Loss:     0.8853 Validation Accuracy: 0.564400\n",
      "Epoch 37, CIFAR-10 Batch 3:  Loss:     0.6798 Validation Accuracy: 0.563800\n",
      "Epoch 37, CIFAR-10 Batch 4:  Loss:     0.6252 Validation Accuracy: 0.567800\n",
      "Epoch 37, CIFAR-10 Batch 5:  Loss:     0.9121 Validation Accuracy: 0.555200\n",
      "Epoch 38, CIFAR-10 Batch 1:  Loss:     0.9246 Validation Accuracy: 0.569800\n",
      "Epoch 38, CIFAR-10 Batch 2:  Loss:     0.8412 Validation Accuracy: 0.568200\n",
      "Epoch 38, CIFAR-10 Batch 3:  Loss:     0.6738 Validation Accuracy: 0.566600\n",
      "Epoch 38, CIFAR-10 Batch 4:  Loss:     0.6056 Validation Accuracy: 0.567600\n",
      "Epoch 38, CIFAR-10 Batch 5:  Loss:     0.8608 Validation Accuracy: 0.560200\n",
      "Epoch 39, CIFAR-10 Batch 1:  Loss:     0.9428 Validation Accuracy: 0.569200\n",
      "Epoch 39, CIFAR-10 Batch 2:  Loss:     0.8525 Validation Accuracy: 0.572000\n",
      "Epoch 39, CIFAR-10 Batch 3:  Loss:     0.6627 Validation Accuracy: 0.565800\n",
      "Epoch 39, CIFAR-10 Batch 4:  Loss:     0.6255 Validation Accuracy: 0.565000\n",
      "Epoch 39, CIFAR-10 Batch 5:  Loss:     0.8236 Validation Accuracy: 0.569000\n",
      "Epoch 40, CIFAR-10 Batch 1:  Loss:     0.9162 Validation Accuracy: 0.574600\n",
      "Epoch 40, CIFAR-10 Batch 2:  Loss:     0.8205 Validation Accuracy: 0.571600\n",
      "Epoch 40, CIFAR-10 Batch 3:  Loss:     0.6768 Validation Accuracy: 0.562200\n",
      "Epoch 40, CIFAR-10 Batch 4:  Loss:     0.6065 Validation Accuracy: 0.565000\n",
      "Epoch 40, CIFAR-10 Batch 5:  Loss:     0.8258 Validation Accuracy: 0.560000\n",
      "Epoch 41, CIFAR-10 Batch 1:  Loss:     0.9009 Validation Accuracy: 0.575200\n",
      "Epoch 41, CIFAR-10 Batch 2:  Loss:     0.8235 Validation Accuracy: 0.573200\n",
      "Epoch 41, CIFAR-10 Batch 3:  Loss:     0.6464 Validation Accuracy: 0.564200\n",
      "Epoch 41, CIFAR-10 Batch 4:  Loss:     0.6039 Validation Accuracy: 0.568800\n",
      "Epoch 41, CIFAR-10 Batch 5:  Loss:     0.8130 Validation Accuracy: 0.566400\n",
      "Epoch 42, CIFAR-10 Batch 1:  Loss:     0.9056 Validation Accuracy: 0.576600\n",
      "Epoch 42, CIFAR-10 Batch 2:  Loss:     0.7891 Validation Accuracy: 0.571000\n",
      "Epoch 42, CIFAR-10 Batch 3:  Loss:     0.6542 Validation Accuracy: 0.567000\n",
      "Epoch 42, CIFAR-10 Batch 4:  Loss:     0.5819 Validation Accuracy: 0.572400\n",
      "Epoch 42, CIFAR-10 Batch 5:  Loss:     0.8077 Validation Accuracy: 0.560200\n",
      "Epoch 43, CIFAR-10 Batch 1:  Loss:     0.8800 Validation Accuracy: 0.574200\n",
      "Epoch 43, CIFAR-10 Batch 2:  Loss:     0.7809 Validation Accuracy: 0.568800\n",
      "Epoch 43, CIFAR-10 Batch 3:  Loss:     0.6485 Validation Accuracy: 0.567200\n",
      "Epoch 43, CIFAR-10 Batch 4:  Loss:     0.5789 Validation Accuracy: 0.574000\n",
      "Epoch 43, CIFAR-10 Batch 5:  Loss:     0.8018 Validation Accuracy: 0.559000\n",
      "Epoch 44, CIFAR-10 Batch 1:  Loss:     0.9049 Validation Accuracy: 0.576200\n"
     ]
    },
    {
     "name": "stdout",
     "output_type": "stream",
     "text": [
      "Epoch 44, CIFAR-10 Batch 2:  Loss:     0.7646 Validation Accuracy: 0.574000\n",
      "Epoch 44, CIFAR-10 Batch 3:  Loss:     0.6271 Validation Accuracy: 0.566600\n",
      "Epoch 44, CIFAR-10 Batch 4:  Loss:     0.5756 Validation Accuracy: 0.569400\n",
      "Epoch 44, CIFAR-10 Batch 5:  Loss:     0.7541 Validation Accuracy: 0.566600\n",
      "Epoch 45, CIFAR-10 Batch 1:  Loss:     0.8699 Validation Accuracy: 0.582600\n",
      "Epoch 45, CIFAR-10 Batch 2:  Loss:     0.7762 Validation Accuracy: 0.575600\n",
      "Epoch 45, CIFAR-10 Batch 3:  Loss:     0.6306 Validation Accuracy: 0.568200\n",
      "Epoch 45, CIFAR-10 Batch 4:  Loss:     0.5577 Validation Accuracy: 0.570600\n",
      "Epoch 45, CIFAR-10 Batch 5:  Loss:     0.7724 Validation Accuracy: 0.565400\n",
      "Epoch 46, CIFAR-10 Batch 1:  Loss:     0.8849 Validation Accuracy: 0.579000\n",
      "Epoch 46, CIFAR-10 Batch 2:  Loss:     0.7280 Validation Accuracy: 0.573000\n",
      "Epoch 46, CIFAR-10 Batch 3:  Loss:     0.6384 Validation Accuracy: 0.562600\n",
      "Epoch 46, CIFAR-10 Batch 4:  Loss:     0.5523 Validation Accuracy: 0.570600\n",
      "Epoch 46, CIFAR-10 Batch 5:  Loss:     0.7513 Validation Accuracy: 0.566000\n",
      "Epoch 47, CIFAR-10 Batch 1:  Loss:     0.8737 Validation Accuracy: 0.582200\n",
      "Epoch 47, CIFAR-10 Batch 2:  Loss:     0.7408 Validation Accuracy: 0.571400\n",
      "Epoch 47, CIFAR-10 Batch 3:  Loss:     0.6213 Validation Accuracy: 0.571800\n",
      "Epoch 47, CIFAR-10 Batch 4:  Loss:     0.5450 Validation Accuracy: 0.569000\n",
      "Epoch 47, CIFAR-10 Batch 5:  Loss:     0.7064 Validation Accuracy: 0.567400\n",
      "Epoch 48, CIFAR-10 Batch 1:  Loss:     0.8653 Validation Accuracy: 0.582000\n",
      "Epoch 48, CIFAR-10 Batch 2:  Loss:     0.7090 Validation Accuracy: 0.578200\n",
      "Epoch 48, CIFAR-10 Batch 3:  Loss:     0.6011 Validation Accuracy: 0.569200\n",
      "Epoch 48, CIFAR-10 Batch 4:  Loss:     0.5681 Validation Accuracy: 0.574200\n",
      "Epoch 48, CIFAR-10 Batch 5:  Loss:     0.7153 Validation Accuracy: 0.569400\n",
      "Epoch 49, CIFAR-10 Batch 1:  Loss:     0.8553 Validation Accuracy: 0.580400\n",
      "Epoch 49, CIFAR-10 Batch 2:  Loss:     0.6955 Validation Accuracy: 0.578200\n",
      "Epoch 49, CIFAR-10 Batch 3:  Loss:     0.6155 Validation Accuracy: 0.572400\n",
      "Epoch 49, CIFAR-10 Batch 4:  Loss:     0.5503 Validation Accuracy: 0.573800\n",
      "Epoch 49, CIFAR-10 Batch 5:  Loss:     0.7211 Validation Accuracy: 0.569200\n",
      "Epoch 50, CIFAR-10 Batch 1:  Loss:     0.8400 Validation Accuracy: 0.584200\n",
      "Epoch 50, CIFAR-10 Batch 2:  Loss:     0.6696 Validation Accuracy: 0.570200\n",
      "Epoch 50, CIFAR-10 Batch 3:  Loss:     0.6102 Validation Accuracy: 0.574400\n",
      "Epoch 50, CIFAR-10 Batch 4:  Loss:     0.5530 Validation Accuracy: 0.572200\n",
      "Epoch 50, CIFAR-10 Batch 5:  Loss:     0.7039 Validation Accuracy: 0.572600\n"
     ]
    }
   ],
   "source": [
    "\"\"\"\n",
    "DON'T MODIFY ANYTHING IN THIS CELL\n",
    "\"\"\"\n",
    "save_model_path = './image_classification'\n",
    "\n",
    "print('Training...')\n",
    "gpu_options = tf.GPUOptions(per_process_gpu_memory_fraction=0.5)\n",
    "with tf.Session(config=tf.ConfigProto(gpu_options=gpu_options)) as sess:\n",
    "    # Initializing the variables\n",
    "    sess.run(tf.global_variables_initializer())\n",
    "    \n",
    "    # Training cycle\n",
    "    for epoch in range(epochs):\n",
    "        # Loop over all batches\n",
    "        n_batches = 5\n",
    "        for batch_i in range(1, n_batches + 1):\n",
    "            for batch_features, batch_labels in helper.load_preprocess_training_batch(batch_i, batch_size):\n",
    "                train_neural_network(sess, optimizer, keep_probability, batch_features, batch_labels)\n",
    "            print('Epoch {:>2}, CIFAR-10 Batch {}:  '.format(epoch + 1, batch_i), end='')\n",
    "            print_stats(sess, batch_features, batch_labels, cost, accuracy)\n",
    "            \n",
    "    # Save Model\n",
    "    saver = tf.train.Saver()\n",
    "    save_path = saver.save(sess, save_model_path)"
   ]
  },
  {
   "cell_type": "markdown",
   "metadata": {},
   "source": [
    "# Checkpoint\n",
    "The model has been saved to disk.\n",
    "## Test Model\n",
    "Test your model against the test dataset.  This will be your final accuracy. You should have an accuracy greater than 50%. If you don't, keep tweaking the model architecture and parameters."
   ]
  },
  {
   "cell_type": "code",
   "execution_count": 18,
   "metadata": {},
   "outputs": [
    {
     "name": "stdout",
     "output_type": "stream",
     "text": [
      "INFO:tensorflow:Restoring parameters from ./image_classification\n",
      "Testing Accuracy: 0.5664556962025317\n",
      "\n"
     ]
    },
    {
     "data": {
      "image/png": "[encoded data removed]",
      "text/plain": [
       "<matplotlib.figure.Figure at 0x7f6c5f76b860>"
      ]
     },
     "metadata": {
      "image/png": {
       "height": 319,
       "width": 355
      }
     },
     "output_type": "display_data"
    }
   ],
   "source": [
    "\"\"\"\n",
    "DON'T MODIFY ANYTHING IN THIS CELL\n",
    "\"\"\"\n",
    "%matplotlib inline\n",
    "%config InlineBackend.figure_format = 'retina'\n",
    "\n",
    "import tensorflow as tf\n",
    "import pickle\n",
    "import helper\n",
    "import random\n",
    "\n",
    "# Set batch size if not already set\n",
    "try:\n",
    "    if batch_size:\n",
    "        pass\n",
    "except NameError:\n",
    "    batch_size = 64\n",
    "\n",
    "save_model_path = './image_classification'\n",
    "n_samples = 4\n",
    "top_n_predictions = 3\n",
    "\n",
    "def test_model():\n",
    "    \"\"\"\n",
    "    Test the saved model against the test dataset\n",
    "    \"\"\"\n",
    "\n",
    "    test_features, test_labels = pickle.load(open('preprocess_test.p', mode='rb'))\n",
    "    loaded_graph = tf.Graph()\n",
    "\n",
    "    with tf.Session(graph=loaded_graph) as sess:\n",
    "        # Load model\n",
    "        loader = tf.train.import_meta_graph(save_model_path + '.meta')\n",
    "        loader.restore(sess, save_model_path)\n",
    "\n",
    "        # Get Tensors from loaded model\n",
    "        loaded_x = loaded_graph.get_tensor_by_name('x:0')\n",
    "        loaded_y = loaded_graph.get_tensor_by_name('y:0')\n",
    "        loaded_keep_prob = loaded_graph.get_tensor_by_name('keep_prob:0')\n",
    "        loaded_logits = loaded_graph.get_tensor_by_name('logits:0')\n",
    "        loaded_acc = loaded_graph.get_tensor_by_name('accuracy:0')\n",
    "        \n",
    "        # Get accuracy in batches for memory limitations\n",
    "        test_batch_acc_total = 0\n",
    "        test_batch_count = 0\n",
    "        \n",
    "        for test_feature_batch, test_label_batch in helper.batch_features_labels(test_features, test_labels, batch_size):\n",
    "            test_batch_acc_total += sess.run(\n",
    "                loaded_acc,\n",
    "                feed_dict={loaded_x: test_feature_batch, loaded_y: test_label_batch, loaded_keep_prob: 1.0})\n",
    "            test_batch_count += 1\n",
    "\n",
    "        print('Testing Accuracy: {}\\n'.format(test_batch_acc_total/test_batch_count))\n",
    "\n",
    "        # Print Random Samples\n",
    "        random_test_features, random_test_labels = tuple(zip(*random.sample(list(zip(test_features, test_labels)), n_samples)))\n",
    "        random_test_predictions = sess.run(\n",
    "            tf.nn.top_k(tf.nn.softmax(loaded_logits), top_n_predictions),\n",
    "            feed_dict={loaded_x: random_test_features, loaded_y: random_test_labels, loaded_keep_prob: 1.0})\n",
    "        helper.display_image_predictions(random_test_features, random_test_labels, random_test_predictions)\n",
    "\n",
    "\n",
    "test_model()"
   ]
  },
  {
   "cell_type": "markdown",
   "metadata": {},
   "source": [
    "## Why 50-80% Accuracy?\n",
    "You might be wondering why you can't get an accuracy any higher. First things first, 50% isn't bad for a simple CNN.  Pure guessing would get you 10% accuracy. However, you might notice people are getting scores [well above 80%](http://rodrigob.github.io/are_we_there_yet/build/classification_datasets_results.html#43494641522d3130).  That's because we haven't taught you all there is to know about neural networks. We still need to cover a few more techniques.\n",
    "## Submitting This Project\n",
    "When submitting this project, make sure to run all the cells before saving the notebook.  Save the notebook file as \"dlnd_image_classification.ipynb\" and save it as a HTML file under \"File\" -> \"Download as\".  Include the \"helper.py\" and \"problem_unittests.py\" files in your submission."
   ]
  }
 ],
 "metadata": {
  "kernelspec": {
   "display_name": "Python 3",
   "language": "python",
   "name": "python3"
  },
  "language_info": {
   "codemirror_mode": {
    "name": "ipython",
    "version": 3
   },
   "file_extension": ".py",
   "mimetype": "text/x-python",
   "name": "python",
   "nbconvert_exporter": "python",
   "pygments_lexer": "ipython3",
   "version": "3.5.2"
  }
 },
 "nbformat": 4,
 "nbformat_minor": 1
}
